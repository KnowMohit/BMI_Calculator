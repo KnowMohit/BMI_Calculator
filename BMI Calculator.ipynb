{
 "cells": [
  {
   "cell_type": "markdown",
   "id": "d8a2305a-3523-408d-8c03-6dc73a7e916e",
   "metadata": {},
   "source": [
    "BMI Calculator"
   ]
  },
  {
   "cell_type": "code",
   "execution_count": 10,
   "id": "eb36e609-9410-4f1b-bea0-ab309132bbdb",
   "metadata": {},
   "outputs": [
    {
     "name": "stdin",
     "output_type": "stream",
     "text": [
      "Enter your name:  Mohit\n",
      "Enter your weight in pounds:  170\n",
      "Enter your height in inches:  65\n"
     ]
    },
    {
     "name": "stdout",
     "output_type": "stream",
     "text": [
      "28.286390532544377\n",
      "Overweight - Increased\n"
     ]
    }
   ],
   "source": [
    "name =  str(input(\"Enter your name: \"))\n",
    "\n",
    "weight = int(input(\"Enter your weight in pounds: \"))\n",
    "\n",
    "height = int(input(\"Enter your height in inches: \"))\n",
    "\n",
    "BMI = float((weight*703)/(height*height))\n",
    "\n",
    "print(BMI)\n",
    "\n",
    "if BMI<=18.5:\n",
    "    print(\"UnderWeight - Minimal\")\n",
    "elif BMI<24.9:\n",
    "    print(\"Normal Weight - Minimal\")\n",
    "elif BMI<29.9:\n",
    "    print(\"Overweight - Increased\")\n",
    "elif BMI<34.9:\n",
    "    print(\"obese - High\")\n",
    "else:\n",
    "    print(\"severly Obese - Very High\")"
   ]
  },
  {
   "cell_type": "code",
   "execution_count": null,
   "id": "62a7c74b-a8a5-425f-aa65-d49f663e55af",
   "metadata": {},
   "outputs": [],
   "source": []
  },
  {
   "cell_type": "code",
   "execution_count": null,
   "id": "3fb40bdd-5fa4-4085-9b45-13dff76c519f",
   "metadata": {},
   "outputs": [],
   "source": []
  },
  {
   "cell_type": "code",
   "execution_count": 8,
   "id": "e86bd699-5ee9-4367-a5c7-10cd96dec939",
   "metadata": {},
   "outputs": [],
   "source": []
  },
  {
   "cell_type": "code",
   "execution_count": null,
   "id": "a8cf87f2-61a4-4da1-bf9b-a41094e96521",
   "metadata": {},
   "outputs": [],
   "source": []
  }
 ],
 "metadata": {
  "kernelspec": {
   "display_name": "Python [conda env:base] *",
   "language": "python",
   "name": "conda-base-py"
  },
  "language_info": {
   "codemirror_mode": {
    "name": "ipython",
    "version": 3
   },
   "file_extension": ".py",
   "mimetype": "text/x-python",
   "name": "python",
   "nbconvert_exporter": "python",
   "pygments_lexer": "ipython3",
   "version": "3.12.7"
  }
 },
 "nbformat": 4,
 "nbformat_minor": 5
}
